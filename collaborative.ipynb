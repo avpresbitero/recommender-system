{
 "cells": [
  {
   "cell_type": "markdown",
   "id": "cdc54f2d",
   "metadata": {
    "toc": true
   },
   "source": [
    "<h1>Table of Contents<span class=\"tocSkip\"></span></h1>\n",
    "<div class=\"toc\"><ul class=\"toc-item\"><li><span><a href=\"#Introduction-to-Recommender-System\" data-toc-modified-id=\"Introduction-to-Recommender-System-1\"><span class=\"toc-item-num\">1&nbsp;&nbsp;</span>Introduction to Recommender System</a></span></li><li><span><a href=\"#Collaborative-Filtering\" data-toc-modified-id=\"Collaborative-Filtering-2\"><span class=\"toc-item-num\">2&nbsp;&nbsp;</span>Collaborative Filtering</a></span><ul class=\"toc-item\"><li><span><a href=\"#Nearest-Neighborhood\" data-toc-modified-id=\"Nearest-Neighborhood-2.1\"><span class=\"toc-item-num\">2.1&nbsp;&nbsp;</span>Nearest Neighborhood</a></span><ul class=\"toc-item\"><li><span><a href=\"#K-Nearest-Neighbors\" data-toc-modified-id=\"K-Nearest-Neighbors-2.1.1\"><span class=\"toc-item-num\">2.1.1&nbsp;&nbsp;</span>K-Nearest Neighbors</a></span><ul class=\"toc-item\"><li><span><a href=\"#Import-data\" data-toc-modified-id=\"Import-data-2.1.1.1\"><span class=\"toc-item-num\">2.1.1.1&nbsp;&nbsp;</span>Import data</a></span></li><li><span><a href=\"#Pivot-dataframe:-Row-as-Users-and-Column-as-Movies\" data-toc-modified-id=\"Pivot-dataframe:-Row-as-Users-and-Column-as-Movies-2.1.1.2\"><span class=\"toc-item-num\">2.1.1.2&nbsp;&nbsp;</span>Pivot dataframe: Row as Users and Column as Movies</a></span></li><li><span><a href=\"#Convert-to-Sparse-Matrix\" data-toc-modified-id=\"Convert-to-Sparse-Matrix-2.1.1.3\"><span class=\"toc-item-num\">2.1.1.3&nbsp;&nbsp;</span>Convert to Sparse Matrix</a></span></li><li><span><a href=\"#Nearest-Neighbors-Fit\" data-toc-modified-id=\"Nearest-Neighbors-Fit-2.1.1.4\"><span class=\"toc-item-num\">2.1.1.4&nbsp;&nbsp;</span>Nearest Neighbors Fit</a></span></li></ul></li></ul></li><li><span><a href=\"#Make-Recommendatations\" data-toc-modified-id=\"Make-Recommendatations-2.2\"><span class=\"toc-item-num\">2.2&nbsp;&nbsp;</span>Make Recommendatations</a></span></li></ul></li></ul></div>"
   ]
  },
  {
   "cell_type": "markdown",
   "id": "394fa3a0",
   "metadata": {},
   "source": [
    "# Introduction to Recommender System\n",
    "\n",
    "Reference: https://towardsdatascience.com/intro-to-recommender-system-collaborative-filtering-64a238194a26\n",
    "\n",
    "Approaches of Collaborative Filtering: Nearest Neighborhood and Matrix Factorization\n",
    "\n",
    "“We are leaving the age of information and entering the age of recommendation.”\n",
    "\n",
    "Like many machine learning techniques, a recommender system makes prediction based on users’ historical behaviors. Specifically, it’s to predict user preference for a set of items based on past experience. To build a recommender system, the most two popular approaches are Content-based and Collaborative Filtering.\n",
    "\n",
    "<b>Content-based approach</b> requires a good amount of information of items’ own features, rather than using users’ interactions and feedbacks. For example, it can be movie attributes such as genre, year, director, actor etc., or textual content of articles that can extracted by applying Natural Language Processing. \n",
    "\n",
    "<b>Collaborative Filtering</b>, on the other hand, doesn’t need anything else except users’ historical preference on a set of items. Because it’s based on historical data, the core assumption here is that the users who have agreed in the past tend to also agree in the future. In terms of user preference, it usually expressed by two categories. Explicit Rating, is a rate given by a user to an item on a sliding scale, like 5 stars for Titanic. This is the most direct feedback from users to show how much they like an item. Implicit Rating, suggests users preference indirectly, such as page views, clicks, purchase records, whether or not listen to a music track, and so on. \n",
    "\n",
    "In this article, I will take a close look at collaborative filtering that is a traditional and powerful tool for recommender systems."
   ]
  },
  {
   "cell_type": "markdown",
   "id": "7d12e9ed",
   "metadata": {},
   "source": [
    "# Collaborative Filtering\n",
    "\n",
    "## Nearest Neighborhood\n",
    "The standard method of Collaborative Filtering is known as Nearest Neighborhood algorithm. There are <b>user-based CF</b> and <b>item-based CF</b>. \n",
    "\n",
    "Let’s first look at User-based CF. We have an n × m matrix of ratings, with user uᵢ, i = 1, ...n and item pⱼ, j=1, …m. Now we want to predict the rating rᵢⱼ if target user i did not watch/rate an item j. The process is to calculate the similarities between target user i and all other users, select the top X similar users, and take the weighted average of ratings from these X users with similarities as weights.\n",
    "\n",
    "![image.png](https://miro.medium.com/max/875/1*mM089Lta5X6zkUkULcO9aA.png)\n",
    "![image.png](https://miro.medium.com/max/875/1*mTRUakSIWmo9OX6D2HakWQ.png)\n",
    "\n",
    "While different people may have different baselines when giving ratings, some people tend to give high scores generally, some are pretty strict even though they are satisfied with items. To avoid this bias, we can subtract each user’s average rating of all items when computing weighted average, and add it back for target user, shown as below.\n",
    "\n",
    "![image.png](https://miro.medium.com/max/875/1*gLbwJts3g_v2TbPRhFoNfA.png)\n",
    "\n",
    "Two ways to calculate similarity are Pearson Correlation and Cosine Similarity.\n",
    "\n",
    "![image.png](https://miro.medium.com/max/875/1*Xvf2o6kE4VCuueMPikxZ_A.png)\n",
    "![image.png](https://miro.medium.com/max/875/1*6HISTi8SjbD2VHicoZwKpA.png)\n",
    "\n",
    "\n",
    "Basically, the idea is to find the most similar users to your target user (nearest neighbors) and weight their ratings of an item as the prediction of the rating of this item for target user.\n",
    "\n",
    "Without knowing anything about items and users themselves, we think two users are similar when they give the same item similar ratings. Analogously, for Item-based CF, we say two items are similar when they received similar ratings from a same user. Then, we will make prediction for a target user on an item by calculating weighted average of ratings on most X similar items from this user. One key advantage of Item-based CF is the stability which is that the ratings on a given item will not change significantly overtime, unlike the tastes of human beings.\n",
    "\n",
    "![image.png](https://miro.medium.com/max/875/1*dPzd5-dScFplypBGeSwgUw.png)\n",
    "\n",
    "There are quite a few limitations of this method. It doesn’t handle sparsity well when no one in the neighborhood rated an item that is what you are trying to predict for target user. Also, it’s not computational efficient as the growth of the number of users and products.\n"
   ]
  },
  {
   "cell_type": "markdown",
   "id": "2027bfcf",
   "metadata": {},
   "source": [
    "### K-Nearest Neighbors\n",
    "The k-nearest neighbors (KNN) algorithm doesn’t make any assumptions on the underlying data distribution, but it relies on item feature similarity. When a KNN makes a prediction about a movie, it will calculate the “distance” (distance metrics will be discussed later) between the target movie and every other movie in its database. It then ranks its distances and returns the top k nearest neighbor movies as the most similar movie recommendations.\n",
    "\n",
    "#### Import data"
   ]
  },
  {
   "cell_type": "code",
   "execution_count": 1,
   "id": "f428a0ba",
   "metadata": {
    "ExecuteTime": {
     "end_time": "2021-08-29T14:56:09.415766Z",
     "start_time": "2021-08-29T14:56:09.390733Z"
    }
   },
   "outputs": [],
   "source": [
    "from recommender_system import utils"
   ]
  },
  {
   "cell_type": "code",
   "execution_count": 2,
   "id": "db264323",
   "metadata": {
    "ExecuteTime": {
     "end_time": "2021-08-29T14:56:33.985258Z",
     "start_time": "2021-08-29T14:56:09.984384Z"
    }
   },
   "outputs": [],
   "source": [
    "import os\n",
    "import pandas as pd\n",
    "\n",
    "data_path = 'data/'\n",
    "movies_filename = 'movie.csv'\n",
    "ratings_filename = 'rating.csv'\n",
    "\n",
    "df_movies = pd.read_csv(data_path + movies_filename)\n",
    "df_movies = df_movies.drop('genres', axis=1)\n",
    "\n",
    "df_ratings = pd.read_csv(data_path + ratings_filename)\n",
    "df_ratings = df_ratings.drop('timestamp', axis=1)"
   ]
  },
  {
   "cell_type": "code",
   "execution_count": 3,
   "id": "d56ef045",
   "metadata": {
    "ExecuteTime": {
     "end_time": "2021-08-29T14:56:34.008542Z",
     "start_time": "2021-08-29T14:56:33.988905Z"
    }
   },
   "outputs": [
    {
     "data": {
      "text/html": [
       "<div>\n",
       "<style scoped>\n",
       "    .dataframe tbody tr th:only-of-type {\n",
       "        vertical-align: middle;\n",
       "    }\n",
       "\n",
       "    .dataframe tbody tr th {\n",
       "        vertical-align: top;\n",
       "    }\n",
       "\n",
       "    .dataframe thead th {\n",
       "        text-align: right;\n",
       "    }\n",
       "</style>\n",
       "<table border=\"1\" class=\"dataframe\">\n",
       "  <thead>\n",
       "    <tr style=\"text-align: right;\">\n",
       "      <th></th>\n",
       "      <th>movieId</th>\n",
       "      <th>title</th>\n",
       "    </tr>\n",
       "  </thead>\n",
       "  <tbody>\n",
       "    <tr>\n",
       "      <th>0</th>\n",
       "      <td>1</td>\n",
       "      <td>Toy Story (1995)</td>\n",
       "    </tr>\n",
       "    <tr>\n",
       "      <th>1</th>\n",
       "      <td>2</td>\n",
       "      <td>Jumanji (1995)</td>\n",
       "    </tr>\n",
       "    <tr>\n",
       "      <th>2</th>\n",
       "      <td>3</td>\n",
       "      <td>Grumpier Old Men (1995)</td>\n",
       "    </tr>\n",
       "    <tr>\n",
       "      <th>3</th>\n",
       "      <td>4</td>\n",
       "      <td>Waiting to Exhale (1995)</td>\n",
       "    </tr>\n",
       "    <tr>\n",
       "      <th>4</th>\n",
       "      <td>5</td>\n",
       "      <td>Father of the Bride Part II (1995)</td>\n",
       "    </tr>\n",
       "  </tbody>\n",
       "</table>\n",
       "</div>"
      ],
      "text/plain": [
       "   movieId                               title\n",
       "0        1                    Toy Story (1995)\n",
       "1        2                      Jumanji (1995)\n",
       "2        3             Grumpier Old Men (1995)\n",
       "3        4            Waiting to Exhale (1995)\n",
       "4        5  Father of the Bride Part II (1995)"
      ]
     },
     "execution_count": 3,
     "metadata": {},
     "output_type": "execute_result"
    }
   ],
   "source": [
    "df_movies.head()"
   ]
  },
  {
   "cell_type": "code",
   "execution_count": 4,
   "id": "e10b0c25",
   "metadata": {
    "ExecuteTime": {
     "end_time": "2021-08-29T14:56:34.021156Z",
     "start_time": "2021-08-29T14:56:34.010242Z"
    },
    "scrolled": true
   },
   "outputs": [
    {
     "data": {
      "text/html": [
       "<div>\n",
       "<style scoped>\n",
       "    .dataframe tbody tr th:only-of-type {\n",
       "        vertical-align: middle;\n",
       "    }\n",
       "\n",
       "    .dataframe tbody tr th {\n",
       "        vertical-align: top;\n",
       "    }\n",
       "\n",
       "    .dataframe thead th {\n",
       "        text-align: right;\n",
       "    }\n",
       "</style>\n",
       "<table border=\"1\" class=\"dataframe\">\n",
       "  <thead>\n",
       "    <tr style=\"text-align: right;\">\n",
       "      <th></th>\n",
       "      <th>userId</th>\n",
       "      <th>movieId</th>\n",
       "      <th>rating</th>\n",
       "    </tr>\n",
       "  </thead>\n",
       "  <tbody>\n",
       "    <tr>\n",
       "      <th>0</th>\n",
       "      <td>1</td>\n",
       "      <td>2</td>\n",
       "      <td>3.5</td>\n",
       "    </tr>\n",
       "    <tr>\n",
       "      <th>1</th>\n",
       "      <td>1</td>\n",
       "      <td>29</td>\n",
       "      <td>3.5</td>\n",
       "    </tr>\n",
       "    <tr>\n",
       "      <th>2</th>\n",
       "      <td>1</td>\n",
       "      <td>32</td>\n",
       "      <td>3.5</td>\n",
       "    </tr>\n",
       "    <tr>\n",
       "      <th>3</th>\n",
       "      <td>1</td>\n",
       "      <td>47</td>\n",
       "      <td>3.5</td>\n",
       "    </tr>\n",
       "    <tr>\n",
       "      <th>4</th>\n",
       "      <td>1</td>\n",
       "      <td>50</td>\n",
       "      <td>3.5</td>\n",
       "    </tr>\n",
       "  </tbody>\n",
       "</table>\n",
       "</div>"
      ],
      "text/plain": [
       "   userId  movieId  rating\n",
       "0       1        2     3.5\n",
       "1       1       29     3.5\n",
       "2       1       32     3.5\n",
       "3       1       47     3.5\n",
       "4       1       50     3.5"
      ]
     },
     "execution_count": 4,
     "metadata": {},
     "output_type": "execute_result"
    }
   ],
   "source": [
    "df_ratings.head()"
   ]
  },
  {
   "cell_type": "code",
   "execution_count": 5,
   "id": "18981fc9",
   "metadata": {
    "ExecuteTime": {
     "end_time": "2021-08-29T14:56:39.526677Z",
     "start_time": "2021-08-29T14:56:34.025460Z"
    },
    "scrolled": true
   },
   "outputs": [
    {
     "name": "stdout",
     "output_type": "stream",
     "text": [
      "shape of original ratings data:  (20000263, 3)\n",
      "shape of ratings data after dropping unpopular movies:  (19845397, 3)\n",
      "shape of original ratings data:  (20000263, 3)\n",
      "shape of ratings data after dropping both unpopular movies and inactive users:  (18122385, 3)\n"
     ]
    }
   ],
   "source": [
    "# now we need to take only movies that have been rated at least 50 times to get some idea of the reactions of users towards it\n",
    "\n",
    "movies_keep = utils.get_list_movies_to_keep(df_ratings)\n",
    "df_ratings_drop_movies = df_ratings[df_ratings.movieId.isin(movies_keep)]\n",
    "\n",
    "print('shape of original ratings data: ', df_ratings.shape)\n",
    "print('shape of ratings data after dropping unpopular movies: ',\n",
    "      df_ratings_drop_movies.shape)\n",
    "\n",
    "# filter data to come to an approximation of user likings.\n",
    "\n",
    "active_users = utils.get_list_users_to_keep(df_ratings)\n",
    "df_ratings_drop_users = df_ratings_drop_movies[\n",
    "    df_ratings_drop_movies.userId.isin(active_users)]\n",
    "print('shape of original ratings data: ', df_ratings.shape)\n",
    "print('shape of ratings data after dropping both unpopular movies and inactive users: ', df_ratings_drop_users.shape)"
   ]
  },
  {
   "cell_type": "code",
   "execution_count": 6,
   "id": "1f3b9058",
   "metadata": {
    "ExecuteTime": {
     "end_time": "2021-08-29T14:56:39.728649Z",
     "start_time": "2021-08-29T14:56:39.531194Z"
    },
    "scrolled": true
   },
   "outputs": [
    {
     "data": {
      "text/html": [
       "<div>\n",
       "<style scoped>\n",
       "    .dataframe tbody tr th:only-of-type {\n",
       "        vertical-align: middle;\n",
       "    }\n",
       "\n",
       "    .dataframe tbody tr th {\n",
       "        vertical-align: top;\n",
       "    }\n",
       "\n",
       "    .dataframe thead th {\n",
       "        text-align: right;\n",
       "    }\n",
       "</style>\n",
       "<table border=\"1\" class=\"dataframe\">\n",
       "  <thead>\n",
       "    <tr style=\"text-align: right;\">\n",
       "      <th></th>\n",
       "      <th>userId</th>\n",
       "      <th>movieId</th>\n",
       "      <th>rating</th>\n",
       "    </tr>\n",
       "  </thead>\n",
       "  <tbody>\n",
       "    <tr>\n",
       "      <th>0</th>\n",
       "      <td>1</td>\n",
       "      <td>2</td>\n",
       "      <td>3.5</td>\n",
       "    </tr>\n",
       "    <tr>\n",
       "      <th>1</th>\n",
       "      <td>1</td>\n",
       "      <td>29</td>\n",
       "      <td>3.5</td>\n",
       "    </tr>\n",
       "    <tr>\n",
       "      <th>2</th>\n",
       "      <td>1</td>\n",
       "      <td>32</td>\n",
       "      <td>3.5</td>\n",
       "    </tr>\n",
       "    <tr>\n",
       "      <th>3</th>\n",
       "      <td>1</td>\n",
       "      <td>47</td>\n",
       "      <td>3.5</td>\n",
       "    </tr>\n",
       "    <tr>\n",
       "      <th>4</th>\n",
       "      <td>1</td>\n",
       "      <td>50</td>\n",
       "      <td>3.5</td>\n",
       "    </tr>\n",
       "    <tr>\n",
       "      <th>...</th>\n",
       "      <td>...</td>\n",
       "      <td>...</td>\n",
       "      <td>...</td>\n",
       "    </tr>\n",
       "    <tr>\n",
       "      <th>18122380</th>\n",
       "      <td>138493</td>\n",
       "      <td>68954</td>\n",
       "      <td>4.5</td>\n",
       "    </tr>\n",
       "    <tr>\n",
       "      <th>18122381</th>\n",
       "      <td>138493</td>\n",
       "      <td>69526</td>\n",
       "      <td>4.5</td>\n",
       "    </tr>\n",
       "    <tr>\n",
       "      <th>18122382</th>\n",
       "      <td>138493</td>\n",
       "      <td>69644</td>\n",
       "      <td>3.0</td>\n",
       "    </tr>\n",
       "    <tr>\n",
       "      <th>18122383</th>\n",
       "      <td>138493</td>\n",
       "      <td>70286</td>\n",
       "      <td>5.0</td>\n",
       "    </tr>\n",
       "    <tr>\n",
       "      <th>18122384</th>\n",
       "      <td>138493</td>\n",
       "      <td>71619</td>\n",
       "      <td>2.5</td>\n",
       "    </tr>\n",
       "  </tbody>\n",
       "</table>\n",
       "<p>18122385 rows × 3 columns</p>\n",
       "</div>"
      ],
      "text/plain": [
       "          userId  movieId  rating\n",
       "0              1        2     3.5\n",
       "1              1       29     3.5\n",
       "2              1       32     3.5\n",
       "3              1       47     3.5\n",
       "4              1       50     3.5\n",
       "...          ...      ...     ...\n",
       "18122380  138493    68954     4.5\n",
       "18122381  138493    69526     4.5\n",
       "18122382  138493    69644     3.0\n",
       "18122383  138493    70286     5.0\n",
       "18122384  138493    71619     2.5\n",
       "\n",
       "[18122385 rows x 3 columns]"
      ]
     },
     "execution_count": 6,
     "metadata": {},
     "output_type": "execute_result"
    }
   ],
   "source": [
    "df_ratings_clean = df_ratings_drop_users.reset_index(drop=True)\n",
    "df_ratings_clean"
   ]
  },
  {
   "cell_type": "code",
   "execution_count": 7,
   "id": "203274af",
   "metadata": {
    "ExecuteTime": {
     "end_time": "2021-08-29T14:56:40.031205Z",
     "start_time": "2021-08-29T14:56:39.732348Z"
    }
   },
   "outputs": [
    {
     "data": {
      "text/html": [
       "<div>\n",
       "<style scoped>\n",
       "    .dataframe tbody tr th:only-of-type {\n",
       "        vertical-align: middle;\n",
       "    }\n",
       "\n",
       "    .dataframe tbody tr th {\n",
       "        vertical-align: top;\n",
       "    }\n",
       "\n",
       "    .dataframe thead th {\n",
       "        text-align: right;\n",
       "    }\n",
       "</style>\n",
       "<table border=\"1\" class=\"dataframe\">\n",
       "  <thead>\n",
       "    <tr style=\"text-align: right;\">\n",
       "      <th></th>\n",
       "      <th>movieId</th>\n",
       "      <th>title</th>\n",
       "    </tr>\n",
       "  </thead>\n",
       "  <tbody>\n",
       "    <tr>\n",
       "      <th>0</th>\n",
       "      <td>1</td>\n",
       "      <td>Toy Story (1995)</td>\n",
       "    </tr>\n",
       "    <tr>\n",
       "      <th>1</th>\n",
       "      <td>2</td>\n",
       "      <td>Jumanji (1995)</td>\n",
       "    </tr>\n",
       "    <tr>\n",
       "      <th>2</th>\n",
       "      <td>3</td>\n",
       "      <td>Grumpier Old Men (1995)</td>\n",
       "    </tr>\n",
       "    <tr>\n",
       "      <th>3</th>\n",
       "      <td>4</td>\n",
       "      <td>Waiting to Exhale (1995)</td>\n",
       "    </tr>\n",
       "    <tr>\n",
       "      <th>4</th>\n",
       "      <td>5</td>\n",
       "      <td>Father of the Bride Part II (1995)</td>\n",
       "    </tr>\n",
       "    <tr>\n",
       "      <th>...</th>\n",
       "      <td>...</td>\n",
       "      <td>...</td>\n",
       "    </tr>\n",
       "    <tr>\n",
       "      <th>10468</th>\n",
       "      <td>119141</td>\n",
       "      <td>The Interview (2014)</td>\n",
       "    </tr>\n",
       "    <tr>\n",
       "      <th>10469</th>\n",
       "      <td>119145</td>\n",
       "      <td>Kingsman: The Secret Service (2015)</td>\n",
       "    </tr>\n",
       "    <tr>\n",
       "      <th>10470</th>\n",
       "      <td>119155</td>\n",
       "      <td>Night at the Museum: Secret of the Tomb (2014)</td>\n",
       "    </tr>\n",
       "    <tr>\n",
       "      <th>10471</th>\n",
       "      <td>120635</td>\n",
       "      <td>Taken 3 (2015)</td>\n",
       "    </tr>\n",
       "    <tr>\n",
       "      <th>10472</th>\n",
       "      <td>125916</td>\n",
       "      <td>Fifty Shades of Grey (2015)</td>\n",
       "    </tr>\n",
       "  </tbody>\n",
       "</table>\n",
       "<p>10473 rows × 2 columns</p>\n",
       "</div>"
      ],
      "text/plain": [
       "       movieId                                           title\n",
       "0            1                                Toy Story (1995)\n",
       "1            2                                  Jumanji (1995)\n",
       "2            3                         Grumpier Old Men (1995)\n",
       "3            4                        Waiting to Exhale (1995)\n",
       "4            5              Father of the Bride Part II (1995)\n",
       "...        ...                                             ...\n",
       "10468   119141                            The Interview (2014)\n",
       "10469   119145             Kingsman: The Secret Service (2015)\n",
       "10470   119155  Night at the Museum: Secret of the Tomb (2014)\n",
       "10471   120635                                  Taken 3 (2015)\n",
       "10472   125916                     Fifty Shades of Grey (2015)\n",
       "\n",
       "[10473 rows x 2 columns]"
      ]
     },
     "execution_count": 7,
     "metadata": {},
     "output_type": "execute_result"
    }
   ],
   "source": [
    "df_movies_clean = df_movies[df_movies.movieId.isin(df_ratings_clean.movieId)].reset_index(drop=True)\n",
    "df_movies_clean"
   ]
  },
  {
   "cell_type": "markdown",
   "id": "fc045621",
   "metadata": {},
   "source": [
    "#### Pivot dataframe: Row as Users and Column as Movies\n",
    "To have a better interpretation of the data, we pivot the dataframe to have userId as rows and movieId as columns, filling the null values with 0.0\n",
    "\n",
    "Reference: https://machinelearningmastery.com/sparse-matrices-for-machine-learning/"
   ]
  },
  {
   "cell_type": "code",
   "execution_count": 8,
   "id": "d3028980",
   "metadata": {
    "ExecuteTime": {
     "end_time": "2021-08-29T14:57:18.783951Z",
     "start_time": "2021-08-29T14:56:40.033972Z"
    }
   },
   "outputs": [],
   "source": [
    "# pivot ratings into movie features\n",
    "df_movie_features_clean = utils.pivot_dataframe(df_ratings_clean)"
   ]
  },
  {
   "cell_type": "markdown",
   "id": "556bb857",
   "metadata": {},
   "source": [
    "#### Convert to Sparse Matrix\n",
    "Matrices that contain mostly zero values are called sparse, distinct from matrices where most of the values are non-zero, called dense.\n",
    "\n",
    "The sparsity of a matrix can be quantified with a score, which is the number of zero values in the matrix divided by the total number of elements in the matrix."
   ]
  },
  {
   "cell_type": "code",
   "execution_count": 9,
   "id": "41e74926",
   "metadata": {
    "ExecuteTime": {
     "end_time": "2021-08-29T14:57:42.793829Z",
     "start_time": "2021-08-29T14:57:18.787343Z"
    }
   },
   "outputs": [],
   "source": [
    "from scipy.sparse import csr_matrix\n",
    "\n",
    "mat_movie_features_clean = csr_matrix(df_movie_features_clean.values)"
   ]
  },
  {
   "cell_type": "markdown",
   "id": "b784064d",
   "metadata": {},
   "source": [
    "#### Nearest Neighbors Fit"
   ]
  },
  {
   "cell_type": "code",
   "execution_count": 10,
   "id": "d19d0dcb",
   "metadata": {
    "ExecuteTime": {
     "end_time": "2021-08-29T14:57:43.664239Z",
     "start_time": "2021-08-29T14:57:42.796726Z"
    }
   },
   "outputs": [],
   "source": [
    "from sklearn.neighbors import NearestNeighbors\n",
    "\n",
    "# make an object for the NearestNeighbors Class.\n",
    "model_knn = NearestNeighbors(metric='cosine', algorithm='brute', n_neighbors=20, n_jobs=-1)"
   ]
  },
  {
   "cell_type": "markdown",
   "id": "bb54a299",
   "metadata": {},
   "source": [
    "## Make Recommendatations\n",
    "We’ve already fit the pre-processed dataset in our KNN model. Now we just need to take a movie or a movieId as input and recommend movies based on the inference derived from the KNN."
   ]
  },
  {
   "cell_type": "code",
   "execution_count": 11,
   "id": "4f156a7c",
   "metadata": {
    "ExecuteTime": {
     "end_time": "2021-08-29T14:57:44.801684Z",
     "start_time": "2021-08-29T14:57:43.672339Z"
    }
   },
   "outputs": [
    {
     "name": "stdout",
     "output_type": "stream",
     "text": [
      "You have input movie: Forrest Gump\n",
      "Recommendation system start to make inference\n",
      "......\n",
      "\n",
      "Forrest Gump (1994) with distance : 4.2099657093785936e-13\n",
      "Jurassic Park (1993) with distance : 0.26321274756062996\n",
      "Pulp Fiction (1994) with distance : 0.2954752834085578\n",
      "Silence of the Lambs, The (1991) with distance : 0.2970385252573423\n",
      "Shawshank Redemption, The (1994) with distance : 0.2980727216529797\n",
      "Braveheart (1995) with distance : 0.30358517087419\n",
      "Apollo 13 (1995) with distance : 0.32690052924147606\n",
      "Terminator 2: Judgment Day (1991) with distance : 0.3273906366370589\n",
      "Fugitive, The (1993) with distance : 0.3323692354837502\n",
      "Speed (1994) with distance : 0.3379339683783722\n",
      "Schindler's List (1993) with distance : 0.35064623006748785\n"
     ]
    }
   ],
   "source": [
    "fav_movie= \"Forrest Gump\"\n",
    "data = mat_movie_features_clean\n",
    "n_recommendations = 10\n",
    "\n",
    "utils.make_recommendation(model_knn, data, fav_movie, n_recommendations, df_movies_clean)"
   ]
  },
  {
   "cell_type": "code",
   "execution_count": null,
   "id": "864a7a64",
   "metadata": {},
   "outputs": [],
   "source": []
  }
 ],
 "metadata": {
  "kernelspec": {
   "display_name": "Python 3 (ipykernel)",
   "language": "python",
   "name": "python3"
  },
  "language_info": {
   "codemirror_mode": {
    "name": "ipython",
    "version": 3
   },
   "file_extension": ".py",
   "mimetype": "text/x-python",
   "name": "python",
   "nbconvert_exporter": "python",
   "pygments_lexer": "ipython3",
   "version": "3.9.5"
  },
  "toc": {
   "base_numbering": 1,
   "nav_menu": {},
   "number_sections": true,
   "sideBar": true,
   "skip_h1_title": false,
   "title_cell": "Table of Contents",
   "title_sidebar": "Contents",
   "toc_cell": true,
   "toc_position": {},
   "toc_section_display": true,
   "toc_window_display": true
  }
 },
 "nbformat": 4,
 "nbformat_minor": 5
}
